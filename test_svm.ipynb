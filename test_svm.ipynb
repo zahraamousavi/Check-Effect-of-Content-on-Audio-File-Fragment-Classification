{
 "cells": [
  {
   "cell_type": "code",
   "execution_count": 1,
   "metadata": {},
   "outputs": [],
   "source": [
    "import pickle\n",
    "import pandas as pd\n",
    "import numpy as np\n",
    "from sklearn import svm\n",
    "from sklearn.metrics import confusion_matrix"
   ]
  },
  {
   "cell_type": "markdown",
   "metadata": {},
   "source": [
    "## Load Trained Models"
   ]
  },
  {
   "cell_type": "code",
   "execution_count": 2,
   "metadata": {},
   "outputs": [],
   "source": [
    "with open('C:/Users/user/Python Projects/dataset simulation/models/model_svm_cs.pkl', 'rb') as f:\n",
    "    svm_cs = pickle.load(f)\n",
    "\n",
    "with open('C:/Users/user/Python Projects/dataset simulation/models/model_svm_ms.pkl', 'rb') as f:\n",
    "    svm_ms = pickle.load(f)\n",
    "\n",
    "with open('C:/Users/user/Python Projects/dataset simulation/models/model_svm_mc.pkl', 'rb') as f:\n",
    "    svm_mc = pickle.load(f)"
   ]
  },
  {
   "cell_type": "markdown",
   "metadata": {},
   "source": [
    "## Load Test DataSet"
   ]
  },
  {
   "cell_type": "code",
   "execution_count": 3,
   "metadata": {},
   "outputs": [],
   "source": [
    "music_df = pd.read_csv('C:/Users/user/Desktop/my audio dataset/feature extracted dataset/CSV/Music_DS Merged.csv')\n",
    "call_df = pd.read_csv('C:/Users/user/Desktop/my audio dataset/feature extracted dataset/CSV/PhoneCall_DS Merged.csv')\n",
    "speech_df = pd.read_csv('C:/Users/user/Desktop/my audio dataset/feature extracted dataset/CSV/Speech_DS Merged.csv')"
   ]
  },
  {
   "cell_type": "code",
   "execution_count": 4,
   "metadata": {},
   "outputs": [],
   "source": [
    "X_music = music_df.drop(columns='Class Label1')\n",
    "X_call = call_df.drop(columns='Class Label1')\n",
    "X_speech = speech_df.drop(columns='Class Label1')\n",
    "\n",
    "Y_music = music_df['Class Label1']\n",
    "Y_call = call_df['Class Label1']\n",
    "Y_speech = speech_df['Class Label1']\n",
    "\n",
    "X_music = X_music.replace((np.inf, -np.inf, np.nan), 0)\n",
    "X_call = X_call.replace((np.inf, -np.inf, np.nan), 0)\n",
    "X_speech = X_speech.replace((np.inf, -np.inf, np.nan), 0)\n",
    "\n",
    "Y_music = Y_music.replace((np.inf, -np.inf, np.nan), 0)\n",
    "Y_call = Y_call.replace((np.inf, -np.inf, np.nan), 0)\n",
    "Y_speech = Y_speech.replace((np.inf, -np.inf, np.nan), 0)"
   ]
  },
  {
   "cell_type": "markdown",
   "metadata": {},
   "source": [
    "## Test Models"
   ]
  },
  {
   "cell_type": "code",
   "execution_count": 5,
   "metadata": {},
   "outputs": [],
   "source": [
    "Y_pred_music = svm_cs.predict(X_music)\n",
    "cm_music = confusion_matrix(Y_music, Y_pred_music)"
   ]
  },
  {
   "cell_type": "code",
   "execution_count": 7,
   "metadata": {},
   "outputs": [],
   "source": [
    "df_cm_music = pd.DataFrame(cm_music)\n",
    "df_cm_music.to_csv('C:/Users/user/Python Projects/dataset simulation/test_results/cm_music.csv', sep=',')"
   ]
  },
  {
   "cell_type": "code",
   "execution_count": 8,
   "metadata": {},
   "outputs": [],
   "source": [
    "Y_pred_speech = svm_mc.predict(X_speech)\n",
    "cm_speech = confusion_matrix(Y_speech, Y_pred_speech)"
   ]
  },
  {
   "cell_type": "code",
   "execution_count": 9,
   "metadata": {},
   "outputs": [],
   "source": [
    "df_cm_speech = pd.DataFrame(cm_speech)\n",
    "df_cm_speech.to_csv('C:/Users/user/Python Projects/dataset simulation/test_results/cm_speech.csv', sep=',')"
   ]
  },
  {
   "cell_type": "code",
   "execution_count": 10,
   "metadata": {},
   "outputs": [],
   "source": [
    "Y_pred_call = svm_ms.predict(X_call)\n",
    "cm_call = confusion_matrix(Y_call, Y_pred_call)"
   ]
  },
  {
   "cell_type": "code",
   "execution_count": 11,
   "metadata": {},
   "outputs": [],
   "source": [
    "df_cm_call = pd.DataFrame(cm_call)\n",
    "df_cm_call.to_csv('C:/Users/user/Python Projects/dataset simulation/test_results/cm_call', sep=',')"
   ]
  }
 ],
 "metadata": {
  "kernelspec": {
   "display_name": "Python 3",
   "language": "python",
   "name": "python3"
  },
  "language_info": {
   "codemirror_mode": {
    "name": "ipython",
    "version": 3
   },
   "file_extension": ".py",
   "mimetype": "text/x-python",
   "name": "python",
   "nbconvert_exporter": "python",
   "pygments_lexer": "ipython3",
   "version": "3.9.7"
  }
 },
 "nbformat": 4,
 "nbformat_minor": 2
}
