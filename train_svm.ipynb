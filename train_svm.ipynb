{
 "cells": [
  {
   "cell_type": "markdown",
   "metadata": {},
   "source": [
    "# Import Modules"
   ]
  },
  {
   "cell_type": "code",
   "execution_count": 1,
   "metadata": {},
   "outputs": [],
   "source": [
    "import pandas as pd\n",
    "from sklearn import svm\n",
    "import numpy as np\n",
    "import pickle"
   ]
  },
  {
   "cell_type": "markdown",
   "metadata": {},
   "source": [
    "### Load Train DataSet"
   ]
  },
  {
   "cell_type": "code",
   "execution_count": 2,
   "metadata": {},
   "outputs": [],
   "source": [
    "music_df = pd.read_csv('C:/Users/user/Desktop/my audio dataset/feature extracted dataset/CSV/Music_DS Merged.csv')\n",
    "call_df = pd.read_csv('C:/Users/user/Desktop/my audio dataset/feature extracted dataset/CSV/PhoneCall_DS Merged.csv')\n",
    "speech_df = pd.read_csv('C:/Users/user/Desktop/my audio dataset/feature extracted dataset/CSV/Speech_DS Merged.csv')"
   ]
  },
  {
   "cell_type": "code",
   "execution_count": 3,
   "metadata": {},
   "outputs": [],
   "source": [
    "X_train_music = music_df.drop(columns='Class Label1')\n",
    "X_train_call = call_df.drop(columns='Class Label1')\n",
    "X_train_speech = speech_df.drop(columns='Class Label1')\n",
    "\n",
    "Y_music = music_df['Class Label1']\n",
    "Y_call = call_df['Class Label1']\n",
    "Y_speech = speech_df['Class Label1']"
   ]
  },
  {
   "cell_type": "markdown",
   "metadata": {},
   "source": [
    "## Train with Music and PhoneCall"
   ]
  },
  {
   "cell_type": "code",
   "execution_count": 4,
   "metadata": {},
   "outputs": [],
   "source": [
    "X_train_mc = pd.concat([X_train_music, X_train_call], ignore_index=True, sort=False)\n",
    "Y_train_mc = pd.concat([Y_music, Y_call], ignore_index=True, sort=False)\n",
    "\n",
    "# data cleansing\n",
    "X_train_mc = X_train_mc.replace((np.inf, -np.inf, np.nan), 0)\n",
    "Y_train_mc = Y_train_mc.replace((np.inf, -np.inf, np.nan), 0)"
   ]
  },
  {
   "cell_type": "markdown",
   "metadata": {},
   "source": [
    "### Train Model and Save It!"
   ]
  },
  {
   "cell_type": "code",
   "execution_count": 5,
   "metadata": {},
   "outputs": [],
   "source": [
    "svm_mc = svm.SVC().fit(X_train_mc, Y_train_mc)\n",
    "with open('C:/Users/user/Python Projects/dataset simulation/models/model_svm_mc.pkl', 'wb') as f:\n",
    "    pickle.dump(svm_mc, f)"
   ]
  },
  {
   "cell_type": "markdown",
   "metadata": {},
   "source": [
    "## Train with Music and Speech"
   ]
  },
  {
   "cell_type": "code",
   "execution_count": 6,
   "metadata": {},
   "outputs": [],
   "source": [
    "X_train_ms = pd.concat([X_train_music, X_train_speech], ignore_index=True, sort=False)\n",
    "Y_train_ms = pd.concat([Y_music, Y_speech], ignore_index=True, sort=False)\n",
    "\n",
    "# data cleansing\n",
    "X_train_ms = X_train_ms.replace((np.inf, -np.inf, np.nan), 0)\n",
    "Y_train_ms = Y_train_ms.replace((np.inf, -np.inf, np.nan), 0)"
   ]
  },
  {
   "cell_type": "markdown",
   "metadata": {},
   "source": [
    "### Train Model and Save It!"
   ]
  },
  {
   "cell_type": "code",
   "execution_count": 7,
   "metadata": {},
   "outputs": [],
   "source": [
    "svm_ms = svm.SVC().fit(X_train_ms, Y_train_ms)\n",
    "with open('C:/Users/user/Python Projects/dataset simulation/models/model_svm_ms.pkl', 'wb') as f:\n",
    "    pickle.dump(svm_ms, f)"
   ]
  },
  {
   "cell_type": "markdown",
   "metadata": {},
   "source": [
    "## Train with PhoneCall and Speech"
   ]
  },
  {
   "cell_type": "code",
   "execution_count": 8,
   "metadata": {},
   "outputs": [],
   "source": [
    "X_train_cs = pd.concat([X_train_call, X_train_speech], ignore_index=True, sort=False)\n",
    "Y_train_cs = pd.concat([Y_call, Y_speech], ignore_index=True, sort=False)\n",
    "\n",
    "# data cleansing\n",
    "X_train_cs = X_train_cs.replace((np.inf, -np.inf, np.nan), 0)\n",
    "Y_train_cs = Y_train_cs.replace((np.inf, -np.inf, np.nan), 0)"
   ]
  },
  {
   "cell_type": "markdown",
   "metadata": {},
   "source": [
    "### Train Model and Save It!"
   ]
  },
  {
   "cell_type": "code",
   "execution_count": 9,
   "metadata": {},
   "outputs": [],
   "source": [
    "svm_cs = svm.SVC().fit(X_train_cs, Y_train_cs)\n",
    "with open('C:/Users/user/Python Projects/dataset simulation/models/model_svm_cs.pkl', 'wb') as f:\n",
    "    pickle.dump(svm_cs, f)"
   ]
  }
 ],
 "metadata": {
  "kernelspec": {
   "display_name": "Python 3",
   "language": "python",
   "name": "python3"
  },
  "language_info": {
   "codemirror_mode": {
    "name": "ipython",
    "version": 3
   },
   "file_extension": ".py",
   "mimetype": "text/x-python",
   "name": "python",
   "nbconvert_exporter": "python",
   "pygments_lexer": "ipython3",
   "version": "3.9.7"
  }
 },
 "nbformat": 4,
 "nbformat_minor": 2
}
